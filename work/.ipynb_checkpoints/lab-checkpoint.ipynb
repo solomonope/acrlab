{
 "cells": [
  {
   "cell_type": "code",
   "execution_count": 1,
   "id": "422bf4fb",
   "metadata": {},
   "outputs": [
    {
     "name": "stdout",
     "output_type": "stream",
     "text": [
      "Hello world\n"
     ]
    }
   ],
   "source": [
    "print(\"Hello world\")"
   ]
  },
  {
   "cell_type": "code",
   "execution_count": null,
   "id": "5e8ab940-bba3-49d7-993e-fd84ed7ad195",
   "metadata": {},
   "outputs": [],
   "source": []
  },
  {
   "cell_type": "code",
   "execution_count": 2,
   "id": "2df3c3c4",
   "metadata": {},
   "outputs": [
    {
     "name": "stdout",
     "output_type": "stream",
     "text": [
      "Testing shit\n"
     ]
    }
   ],
   "source": [
    "print(\"Testing shit\")"
   ]
  },
  {
   "cell_type": "code",
   "execution_count": 3,
   "id": "0f28f085-db40-4682-bb82-0260c208fca5",
   "metadata": {},
   "outputs": [
    {
     "name": "stdout",
     "output_type": "stream",
     "text": [
      "other app\n"
     ]
    }
   ],
   "source": [
    "print(\"other app\")"
   ]
  },
  {
   "cell_type": "code",
   "execution_count": 4,
   "id": "07452edb-072f-458b-a8b7-2b421e2f5ce5",
   "metadata": {},
   "outputs": [],
   "source": [
    "import sklearn"
   ]
  },
  {
   "cell_type": "code",
   "execution_count": 5,
   "id": "31077d3c-4a56-4ea1-b4d4-d4e40bc9be93",
   "metadata": {},
   "outputs": [],
   "source": [
    "import pandas"
   ]
  },
  {
   "cell_type": "code",
   "execution_count": 6,
   "id": "0a859340-e7e8-4ea5-a3f9-2e224658e8f3",
   "metadata": {},
   "outputs": [],
   "source": [
    "# sample showing how to add custom local modules to the path"
   ]
  },
  {
   "cell_type": "code",
   "execution_count": 7,
   "id": "0df055ca-df0e-4eb8-bf9d-fc12a2e5e870",
   "metadata": {},
   "outputs": [],
   "source": [
    "import  sys  \n",
    "sys.path.insert(0, '/home/modules')"
   ]
  },
  {
   "cell_type": "code",
   "execution_count": 8,
   "id": "27bd97f4-e0ea-447c-9189-93dfd634a39a",
   "metadata": {},
   "outputs": [],
   "source": [
    "from download import data"
   ]
  },
  {
   "cell_type": "code",
   "execution_count": 9,
   "id": "e97922c2-db86-4b79-813b-d00292f1bc0a",
   "metadata": {},
   "outputs": [
    {
     "name": "stdout",
     "output_type": "stream",
     "text": [
      "This shit is just downloading\n",
      "None\n"
     ]
    }
   ],
   "source": [
    "print(data.download())"
   ]
  },
  {
   "cell_type": "code",
   "execution_count": null,
   "id": "25dc0009-3db0-4f54-9e63-b1e9b8a4e1ae",
   "metadata": {},
   "outputs": [],
   "source": [
    "#testing externally run requirements file"
   ]
  },
  {
   "cell_type": "code",
   "execution_count": 1,
   "id": "1aacf57e-7f38-421e-940b-691ff1579ad1",
   "metadata": {},
   "outputs": [],
   "source": [
    "import boto3"
   ]
  }
 ],
 "metadata": {
  "kernelspec": {
   "display_name": "Python 3 (ipykernel)",
   "language": "python",
   "name": "python3"
  },
  "language_info": {
   "codemirror_mode": {
    "name": "ipython",
    "version": 3
   },
   "file_extension": ".py",
   "mimetype": "text/x-python",
   "name": "python",
   "nbconvert_exporter": "python",
   "pygments_lexer": "ipython3",
   "version": "3.9.7"
  }
 },
 "nbformat": 4,
 "nbformat_minor": 5
}
